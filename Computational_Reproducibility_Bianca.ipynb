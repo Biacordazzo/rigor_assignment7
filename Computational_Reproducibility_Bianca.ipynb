{
  "nbformat": 4,
  "nbformat_minor": 0,
  "metadata": {
    "colab": {
      "provenance": []
    },
    "kernelspec": {
      "name": "python3",
      "display_name": "Python 3"
    },
    "language_info": {
      "name": "python"
    }
  },
  "cells": [
    {
      "cell_type": "markdown",
      "source": [
        "## Rigor and Reproducibility - Computational Reproducibility HW\n",
        "*Student: Bianca Cordazzo*"
      ],
      "metadata": {
        "id": "uTDvqwE6wB5d"
      }
    },
    {
      "cell_type": "code",
      "source": [
        "print(\"Today is October 31st, 2023 (Happy Halloween!)\")"
      ],
      "metadata": {
        "colab": {
          "base_uri": "https://localhost:8080/"
        },
        "id": "Sm5-Vydlv2td",
        "outputId": "8b8659b8-8210-4efb-8fe9-155cea26e0b6"
      },
      "execution_count": 2,
      "outputs": [
        {
          "output_type": "stream",
          "name": "stdout",
          "text": [
            "Today is October 31st, 2023 (Happy Halloween!)\n"
          ]
        }
      ]
    },
    {
      "cell_type": "code",
      "source": [
        "print(\"This is a simple arithmetic operation:\")\n",
        "print(\"3*10+1 = {}\".format(3*10+1))"
      ],
      "metadata": {
        "colab": {
          "base_uri": "https://localhost:8080/"
        },
        "id": "uvxwLx0mwX1U",
        "outputId": "4abfc8de-fb31-4f2b-d1a2-872d6cc13e1f"
      },
      "execution_count": 6,
      "outputs": [
        {
          "output_type": "stream",
          "name": "stdout",
          "text": [
            "This is a simple arithmetic operation:\n",
            "3*10+1 = 31\n"
          ]
        }
      ]
    },
    {
      "cell_type": "markdown",
      "source": [
        "### Reflection\n",
        "\n",
        "*Explain how using repositories, tracking changes and publishing like GitHub can help with computational reproducibility.*\n",
        "\n",
        "\n",
        "There are multiple reasons why repositories and version control tools such as Github have become essential for facilitating computational reproducibility. In my opinion, these are the most important ones:\n",
        "\n",
        "- **Version control:** Being able to track the changes to a given script is incredibly important. Sometimes, small changes might disrupt the way our code works, and having the option of reverting back to earlier, functional versions can save significant time and increase efficiency. This can also facilitate our understanding of how specific changes affect, if at all, intermediate and final results. This goes beyond the changes we might introduce ourselves, but also  updates of external packages and dependencies we might be relying on, as they can have minor or substantial effects on our results. This, in fact, could hamper our ability to reproduce someone else’s results or our own.\n",
        "- **Collaboration and transparency:** Making repositories publicly available not only increases transparency, but also opens the door to collaboration, both of which can lead to better computational reproducibility. Making code open and well documented is an obvious step towards reproducibility. Assuming the key data is made available as well, others should be able to reproduce results and arrive at similar conclusions. In terms of collaboration, external users can comment on bugs, errors, or inconsistencies in the code and/or results, as well as suggest improvements, all of which are important for reproducibility.\n",
        "\n",
        "I think of repositories as the lab notebook equivalent for computational biologists. They serve as protocols that can help reproduce analyses at different points in time, by the original author(s) as well as internal/external users.\n"
      ],
      "metadata": {
        "id": "mrZXv3g2xq1w"
      }
    }
  ]
}